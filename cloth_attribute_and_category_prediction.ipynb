{
  "nbformat": 4,
  "nbformat_minor": 0,
  "metadata": {
    "colab": {
      "name": "cloth_attribute_and_category_prediction.ipynb",
      "provenance": [],
      "collapsed_sections": []
    },
    "kernelspec": {
      "name": "python3",
      "display_name": "Python 3"
    },
    "accelerator": "GPU"
  },
  "cells": [
    {
      "cell_type": "code",
      "metadata": {
        "id": "KO3L-E_h5Vua",
        "colab_type": "code",
        "colab": {
          "base_uri": "https://localhost:8080/",
          "height": 34
        },
        "outputId": "211f8049-3595-4262-b204-0b22358685fb"
      },
      "source": [
        "%tensorflow_version 2.x"
      ],
      "execution_count": 1,
      "outputs": [
        {
          "output_type": "stream",
          "text": [
            "TensorFlow 2.x selected.\n"
          ],
          "name": "stdout"
        }
      ]
    },
    {
      "cell_type": "code",
      "metadata": {
        "id": "iv_qx5o-5cOK",
        "colab_type": "code",
        "colab": {}
      },
      "source": [
        "from tensorflow.keras.applications import VGG16\n",
        "from tensorflow.keras.models import Model, save_model\n",
        "from tensorflow.keras.layers import Dense, Conv2D, Conv2DTranspose, concatenate, multiply, Flatten, Reshape\n",
        "from tensorflow.keras.regularizers import l2\n",
        "from tensorflow.keras.optimizers import Adam\n",
        "from tensorflow.keras.optimizers.schedules import ExponentialDecay\n",
        "from tensorflow.keras.metrics import TopKCategoricalAccuracy\n",
        "from pydrive.auth import GoogleAuth\n",
        "from pydrive.drive import GoogleDrive\n",
        "from google.colab import auth\n",
        "from oauth2client.client import GoogleCredentials\n",
        "from google.colab import files\n",
        "import pandas as pd\n",
        "import numpy as np\n",
        "import tensorflow_addons as tfa\n",
        "import tarfile\n",
        "import tensorflow as tf"
      ],
      "execution_count": 0,
      "outputs": []
    },
    {
      "cell_type": "code",
      "metadata": {
        "id": "Ym9-bs8k5wob",
        "colab_type": "code",
        "colab": {}
      },
      "source": [
        "auth.authenticate_user()\n",
        "gauth = GoogleAuth()\n",
        "gauth.credentials = GoogleCredentials.get_application_default()\n",
        "drive = GoogleDrive(gauth)"
      ],
      "execution_count": 0,
      "outputs": []
    },
    {
      "cell_type": "code",
      "metadata": {
        "id": "-ukt-Bpm5yEf",
        "colab_type": "code",
        "colab": {}
      },
      "source": [
        "downloaded = drive.CreateFile({'id':\"1Kt28zC5d3MRf8i9ZYLL1qaF_0PrpnIfX\"})\n",
        "downloaded.GetContentFile('img.tar.gz')\n",
        "tarfile.open('img.tar.gz').extractall()\n",
        "!rm -f img.tar.gz\n",
        "\n",
        "downloaded = drive.CreateFile({'id':\"1bUNyC5dlnVJXBd0LhXU08le9XYxiB4F_\"})\n",
        "downloaded.GetContentFile('train_data.csv')\n",
        "\n",
        "downloaded = drive.CreateFile({'id':\"1hqKXEI3n9_rjfJLLWFy_hwzWXw5Uyyu_\"})\n",
        "downloaded.GetContentFile('val_data.csv')\n",
        "\n",
        "downloaded = drive.CreateFile({'id':\"1rCEFjQ9v3Vwt1fTo5WNscU3wKz7kNeJR\"})\n",
        "downloaded.GetContentFile('test_data.csv')"
      ],
      "execution_count": 0,
      "outputs": []
    },
    {
      "cell_type": "code",
      "metadata": {
        "id": "x-re_Ruv5zcF",
        "colab_type": "code",
        "colab": {}
      },
      "source": [
        "train_data = pd.read_csv(\"train_data.csv\")\n",
        "train_data = train_data.sample(frac=1).reset_index(drop=True)\n",
        "\n",
        "val_data = pd.read_csv(\"val_data.csv\")\n",
        "val_data = val_data.sample(frac=1).reset_index(drop=True)\n",
        "\n",
        "test_data = pd.read_csv(\"test_data.csv\")\n",
        "test_data = test_data.sample(frac=1).reset_index(drop=True)"
      ],
      "execution_count": 0,
      "outputs": []
    },
    {
      "cell_type": "code",
      "metadata": {
        "id": "FhhDZLt_51i-",
        "colab_type": "code",
        "colab": {}
      },
      "source": [
        "def fix_labels(num):\n",
        "    num = int(num)\n",
        "    if num > 45:\n",
        "        num -= 1\n",
        "    if num > 38:\n",
        "        num -= 1\n",
        "    if num > 31:\n",
        "        num -= 1\n",
        "    num -= 1\n",
        "    return str(num)\n",
        "\n",
        "train_data[\"category_label\"] = train_data[\"category_label\"].apply(lambda x:fix_labels(x))\n",
        "val_data[\"category_label\"] = val_data[\"category_label\"].apply(lambda x:fix_labels(x))\n",
        "test_data[\"category_label\"] = test_data[\"category_label\"].apply(lambda x:fix_labels(x))"
      ],
      "execution_count": 0,
      "outputs": []
    },
    {
      "cell_type": "code",
      "metadata": {
        "id": "v3nvUKmy6I0Y",
        "colab_type": "code",
        "colab": {
          "base_uri": "https://localhost:8080/",
          "height": 1000
        },
        "outputId": "1ea1dda4-abd9-4a2f-d600-359a814c57e5"
      },
      "source": [
        "num_classes = 45\n",
        "vgg_model = VGG16(weights=\"imagenet\")\n",
        "vgg_model = Model(vgg_model.input, vgg_model.get_layer(\"block4_conv3\").output)\n",
        "\n",
        "#landmark branch\n",
        "x = Conv2D(64, (3, 3), activation=\"relu\", padding=\"same\")(vgg_model.output)\n",
        "x = Conv2DTranspose(64, (3, 3), strides=(2, 2), activation=\"relu\", padding=\"same\")(x)\n",
        "x = Conv2DTranspose(32, (3, 3), strides=(2, 2), activation=\"relu\", padding=\"same\")(x)\n",
        "x = Conv2DTranspose(16, (3, 3), strides=(2, 2), activation=\"relu\", padding=\"same\")(x)\n",
        "x = Conv2D(1, (3, 3), strides=(8, 8), activation=\"relu\", padding=\"same\")(x)\n",
        "x = Conv2D(8, (3, 3), activation=\"sigmoid\", padding=\"same\")(x)\n",
        "landmark_output = concatenate([vgg_model.output, x])\n",
        "\n",
        "#attention branch\n",
        "x = Conv2D(32, (3, 3), activation=\"relu\")(landmark_output)\n",
        "x = Conv2D(64, (3, 3), activation=\"relu\", strides=(2, 2), padding=\"same\")(x)\n",
        "x = Conv2D(128, (3, 3), activation=\"relu\", strides=(2, 2), padding=\"same\")(x)\n",
        "x = Conv2DTranspose(64, (3, 3), activation=\"relu\", strides=(2, 2), padding=\"same\")(x)\n",
        "attention_output = Conv2DTranspose(512, (3, 3), activation=\"sigmoid\", strides=(2, 2), padding=\"same\")(x)\n",
        "\n",
        "#final branch\n",
        "x = multiply([vgg_model.output, attention_output])\n",
        "x = Conv2D(512, (3, 3), activation=\"relu\", padding=\"same\")(x)\n",
        "x = Conv2D(512, (3, 3), activation=\"relu\", padding=\"same\")(x)\n",
        "x = Conv2D(512, (3, 3), activation=\"relu\", padding=\"same\")(x)\n",
        "x = Flatten()(x)\n",
        "x = Dense(1000, activation=\"relu\", kernel_regularizer=l2(l=0.001))(x)\n",
        "final_out = Dense(num_classes, activation=\"softmax\", kernel_regularizer=l2(l=0.001))(x)\n",
        "model = Model(vgg_model.input, final_out)\n",
        "\n",
        "lr_schedule = ExponentialDecay(0.0001, 1000, 0.9, staircase=True)\n",
        "model.compile(loss=\"categorical_crossentropy\", optimizer=Adam(learning_rate=lr_schedule),\n",
        "              metrics=[\"accuracy\", TopKCategoricalAccuracy(k=3)])\n",
        "model.summary()"
      ],
      "execution_count": 7,
      "outputs": [
        {
          "output_type": "stream",
          "text": [
            "Downloading data from https://github.com/fchollet/deep-learning-models/releases/download/v0.1/vgg16_weights_tf_dim_ordering_tf_kernels.h5\n",
            "553467904/553467096 [==============================] - 16s 0us/step\n",
            "Model: \"model_1\"\n",
            "__________________________________________________________________________________________________\n",
            "Layer (type)                    Output Shape         Param #     Connected to                     \n",
            "==================================================================================================\n",
            "input_1 (InputLayer)            [(None, 224, 224, 3) 0                                            \n",
            "__________________________________________________________________________________________________\n",
            "block1_conv1 (Conv2D)           (None, 224, 224, 64) 1792        input_1[0][0]                    \n",
            "__________________________________________________________________________________________________\n",
            "block1_conv2 (Conv2D)           (None, 224, 224, 64) 36928       block1_conv1[0][0]               \n",
            "__________________________________________________________________________________________________\n",
            "block1_pool (MaxPooling2D)      (None, 112, 112, 64) 0           block1_conv2[0][0]               \n",
            "__________________________________________________________________________________________________\n",
            "block2_conv1 (Conv2D)           (None, 112, 112, 128 73856       block1_pool[0][0]                \n",
            "__________________________________________________________________________________________________\n",
            "block2_conv2 (Conv2D)           (None, 112, 112, 128 147584      block2_conv1[0][0]               \n",
            "__________________________________________________________________________________________________\n",
            "block2_pool (MaxPooling2D)      (None, 56, 56, 128)  0           block2_conv2[0][0]               \n",
            "__________________________________________________________________________________________________\n",
            "block3_conv1 (Conv2D)           (None, 56, 56, 256)  295168      block2_pool[0][0]                \n",
            "__________________________________________________________________________________________________\n",
            "block3_conv2 (Conv2D)           (None, 56, 56, 256)  590080      block3_conv1[0][0]               \n",
            "__________________________________________________________________________________________________\n",
            "block3_conv3 (Conv2D)           (None, 56, 56, 256)  590080      block3_conv2[0][0]               \n",
            "__________________________________________________________________________________________________\n",
            "block3_pool (MaxPooling2D)      (None, 28, 28, 256)  0           block3_conv3[0][0]               \n",
            "__________________________________________________________________________________________________\n",
            "block4_conv1 (Conv2D)           (None, 28, 28, 512)  1180160     block3_pool[0][0]                \n",
            "__________________________________________________________________________________________________\n",
            "block4_conv2 (Conv2D)           (None, 28, 28, 512)  2359808     block4_conv1[0][0]               \n",
            "__________________________________________________________________________________________________\n",
            "block4_conv3 (Conv2D)           (None, 28, 28, 512)  2359808     block4_conv2[0][0]               \n",
            "__________________________________________________________________________________________________\n",
            "conv2d (Conv2D)                 (None, 28, 28, 64)   294976      block4_conv3[0][0]               \n",
            "__________________________________________________________________________________________________\n",
            "conv2d_transpose (Conv2DTranspo (None, 56, 56, 64)   36928       conv2d[0][0]                     \n",
            "__________________________________________________________________________________________________\n",
            "conv2d_transpose_1 (Conv2DTrans (None, 112, 112, 32) 18464       conv2d_transpose[0][0]           \n",
            "__________________________________________________________________________________________________\n",
            "conv2d_transpose_2 (Conv2DTrans (None, 224, 224, 16) 4624        conv2d_transpose_1[0][0]         \n",
            "__________________________________________________________________________________________________\n",
            "conv2d_1 (Conv2D)               (None, 28, 28, 1)    145         conv2d_transpose_2[0][0]         \n",
            "__________________________________________________________________________________________________\n",
            "conv2d_2 (Conv2D)               (None, 28, 28, 8)    80          conv2d_1[0][0]                   \n",
            "__________________________________________________________________________________________________\n",
            "concatenate (Concatenate)       (None, 28, 28, 520)  0           block4_conv3[0][0]               \n",
            "                                                                 conv2d_2[0][0]                   \n",
            "__________________________________________________________________________________________________\n",
            "conv2d_3 (Conv2D)               (None, 26, 26, 32)   149792      concatenate[0][0]                \n",
            "__________________________________________________________________________________________________\n",
            "conv2d_4 (Conv2D)               (None, 13, 13, 64)   18496       conv2d_3[0][0]                   \n",
            "__________________________________________________________________________________________________\n",
            "conv2d_5 (Conv2D)               (None, 7, 7, 128)    73856       conv2d_4[0][0]                   \n",
            "__________________________________________________________________________________________________\n",
            "conv2d_transpose_3 (Conv2DTrans (None, 14, 14, 64)   73792       conv2d_5[0][0]                   \n",
            "__________________________________________________________________________________________________\n",
            "conv2d_transpose_4 (Conv2DTrans (None, 28, 28, 512)  295424      conv2d_transpose_3[0][0]         \n",
            "__________________________________________________________________________________________________\n",
            "multiply (Multiply)             (None, 28, 28, 512)  0           block4_conv3[0][0]               \n",
            "                                                                 conv2d_transpose_4[0][0]         \n",
            "__________________________________________________________________________________________________\n",
            "conv2d_6 (Conv2D)               (None, 28, 28, 512)  2359808     multiply[0][0]                   \n",
            "__________________________________________________________________________________________________\n",
            "conv2d_7 (Conv2D)               (None, 28, 28, 512)  2359808     conv2d_6[0][0]                   \n",
            "__________________________________________________________________________________________________\n",
            "conv2d_8 (Conv2D)               (None, 28, 28, 512)  2359808     conv2d_7[0][0]                   \n",
            "__________________________________________________________________________________________________\n",
            "flatten (Flatten)               (None, 401408)       0           conv2d_8[0][0]                   \n",
            "__________________________________________________________________________________________________\n",
            "dense (Dense)                   (None, 1000)         401409000   flatten[0][0]                    \n",
            "__________________________________________________________________________________________________\n",
            "dense_1 (Dense)                 (None, 45)           45045       dense[0][0]                      \n",
            "==================================================================================================\n",
            "Total params: 417,135,310\n",
            "Trainable params: 417,135,310\n",
            "Non-trainable params: 0\n",
            "__________________________________________________________________________________________________\n"
          ],
          "name": "stdout"
        }
      ]
    },
    {
      "cell_type": "code",
      "metadata": {
        "id": "ICaXDUzj2-QG",
        "colab_type": "code",
        "colab": {}
      },
      "source": [
        "AUTOTUNE = tf.data.experimental.AUTOTUNE\n",
        "\n",
        "all_train_labels = tf.one_hot(train_data[\"category_label\"].values.astype(np.int32), num_classes)\n",
        "all_train_paths = train_data[\"image_name\"].values\n",
        "train_filepath_dataset = tf.data.Dataset.from_tensor_slices((all_train_paths, all_train_labels))\n",
        "\n",
        "all_val_labels = tf.one_hot(val_data[\"category_label\"].values.astype(np.int32), num_classes)\n",
        "all_val_paths = val_data[\"image_name\"].values\n",
        "val_filepath_dataset = tf.data.Dataset.from_tensor_slices((all_val_paths, all_val_labels))\n",
        "\n",
        "all_test_labels = tf.one_hot(test_data[\"category_label\"].values.astype(np.int32), num_classes)\n",
        "all_test_paths = test_data[\"image_name\"].values\n",
        "test_filepath_dataset = tf.data.Dataset.from_tensor_slices((all_test_paths, all_test_labels))"
      ],
      "execution_count": 0,
      "outputs": []
    },
    {
      "cell_type": "code",
      "metadata": {
        "id": "iJdMFoUAyx4W",
        "colab_type": "code",
        "colab": {}
      },
      "source": [
        "im_size = [224,224]\n",
        "batch_size = 8\n",
        "def get_image_and_label(filename, label):\n",
        "    image_string = tf.io.read_file(filename)\n",
        "    image = tf.image.decode_jpeg(image_string, channels=3)\n",
        "    image = tf.image.convert_image_dtype(image, tf.float32)\n",
        "    image = tf.image.resize(image, im_size)\n",
        "    return (image, label)\n",
        "\n",
        "def get_image_and_label_augment(filename, label):\n",
        "    image_string = tf.io.read_file(filename)\n",
        "    image = tf.image.decode_jpeg(image_string, channels=3)\n",
        "    image = tf.image.convert_image_dtype(image, tf.float32)\n",
        "    image = tf.image.resize(image, im_size)\n",
        "\n",
        "    image = tfa.image.rotate(image, 30)\n",
        "    image = tf.image.central_crop(image, .80)\n",
        "    image = tf.image.resize(image, im_size)\n",
        "    image = tfa.image.translate(image, translations=[20, 20])\n",
        "    image = tf.image.random_flip_left_right(image)\n",
        "    return (image, label)\n",
        "\n",
        "def prepare_for_training(ds, batch_size=None, shuffle_buffer_size=1000, repeat=True):\n",
        "    ds = ds.shuffle(buffer_size=shuffle_buffer_size)\n",
        "    if repeat:\n",
        "        ds = ds.repeat()\n",
        "    if batch_size != None:\n",
        "        ds = ds.batch(batch_size)\n",
        "    ds = ds.prefetch(buffer_size=AUTOTUNE)\n",
        "    return ds"
      ],
      "execution_count": 0,
      "outputs": []
    },
    {
      "cell_type": "code",
      "metadata": {
        "id": "4UcHmxxcy0Ct",
        "colab_type": "code",
        "colab": {}
      },
      "source": [
        "train_dataset = train_filepath_dataset.map(get_image_and_label, num_parallel_calls=AUTOTUNE)\n",
        "train_dataset = prepare_for_training(train_dataset, batch_size=batch_size)\n",
        "\n",
        "val_dataset = val_filepath_dataset.map(get_image_and_label, num_parallel_calls=AUTOTUNE)\n",
        "val_dataset = prepare_for_training(val_dataset, batch_size=batch_size)\n",
        "\n",
        "test_dataset = test_filepath_dataset.map(get_image_and_label, num_parallel_calls=AUTOTUNE)\n",
        "test_dataset = prepare_for_training(test_dataset, batch_size=batch_size)"
      ],
      "execution_count": 0,
      "outputs": []
    },
    {
      "cell_type": "code",
      "metadata": {
        "id": "GA6tw89lzK8h",
        "colab_type": "code",
        "colab": {
          "base_uri": "https://localhost:8080/",
          "height": 406
        },
        "outputId": "9730b4c7-9082-4d04-bec1-0dd8827b5e95"
      },
      "source": [
        "model.fit(train_dataset,\n",
        "          validation_data=val_dataset,\n",
        "          steps_per_epoch=2000,\n",
        "          validation_steps=100,\n",
        "          epochs=10)"
      ],
      "execution_count": 11,
      "outputs": [
        {
          "output_type": "stream",
          "text": [
            "Train for 2000 steps, validate for 100 steps\n",
            "Epoch 1/10\n",
            "2000/2000 [==============================] - 733s 366ms/step - loss: 2.7804 - accuracy: 0.3499 - top_k_categorical_accuracy: 0.5716 - val_loss: 2.1535 - val_accuracy: 0.4225 - val_top_k_categorical_accuracy: 0.6575\n",
            "Epoch 2/10\n",
            "2000/2000 [==============================] - 726s 363ms/step - loss: 1.9964 - accuracy: 0.4544 - top_k_categorical_accuracy: 0.6884 - val_loss: 1.8652 - val_accuracy: 0.5150 - val_top_k_categorical_accuracy: 0.7212\n",
            "Epoch 3/10\n",
            "2000/2000 [==============================] - 726s 363ms/step - loss: 1.8282 - accuracy: 0.4990 - top_k_categorical_accuracy: 0.7251 - val_loss: 1.7892 - val_accuracy: 0.5238 - val_top_k_categorical_accuracy: 0.7250\n",
            "Epoch 4/10\n",
            "2000/2000 [==============================] - 725s 363ms/step - loss: 1.7102 - accuracy: 0.5242 - top_k_categorical_accuracy: 0.7527 - val_loss: 1.6320 - val_accuracy: 0.5375 - val_top_k_categorical_accuracy: 0.7725\n",
            "Epoch 5/10\n",
            "2000/2000 [==============================] - 724s 362ms/step - loss: 1.6126 - accuracy: 0.5541 - top_k_categorical_accuracy: 0.7739 - val_loss: 1.5172 - val_accuracy: 0.5888 - val_top_k_categorical_accuracy: 0.7912\n",
            "Epoch 6/10\n",
            "2000/2000 [==============================] - 723s 362ms/step - loss: 1.5696 - accuracy: 0.5738 - top_k_categorical_accuracy: 0.7835 - val_loss: 1.5112 - val_accuracy: 0.5950 - val_top_k_categorical_accuracy: 0.7925\n",
            "Epoch 7/10\n",
            "2000/2000 [==============================] - 723s 362ms/step - loss: 1.5111 - accuracy: 0.5816 - top_k_categorical_accuracy: 0.7937 - val_loss: 1.4459 - val_accuracy: 0.6100 - val_top_k_categorical_accuracy: 0.7975\n",
            "Epoch 8/10\n",
            "2000/2000 [==============================] - 723s 361ms/step - loss: 1.4724 - accuracy: 0.5961 - top_k_categorical_accuracy: 0.8043 - val_loss: 1.4954 - val_accuracy: 0.5938 - val_top_k_categorical_accuracy: 0.7962\n",
            "Epoch 9/10\n",
            "2000/2000 [==============================] - 723s 362ms/step - loss: 1.4255 - accuracy: 0.6091 - top_k_categorical_accuracy: 0.8123 - val_loss: 1.4096 - val_accuracy: 0.6000 - val_top_k_categorical_accuracy: 0.8188\n",
            "Epoch 10/10\n",
            "2000/2000 [==============================] - 723s 361ms/step - loss: 1.3975 - accuracy: 0.6162 - top_k_categorical_accuracy: 0.8217 - val_loss: 1.3724 - val_accuracy: 0.6162 - val_top_k_categorical_accuracy: 0.8325\n"
          ],
          "name": "stdout"
        },
        {
          "output_type": "execute_result",
          "data": {
            "text/plain": [
              "<tensorflow.python.keras.callbacks.History at 0x7f23693606a0>"
            ]
          },
          "metadata": {
            "tags": []
          },
          "execution_count": 11
        }
      ]
    },
    {
      "cell_type": "code",
      "metadata": {
        "id": "vD3uCapE9FhT",
        "colab_type": "code",
        "colab": {}
      },
      "source": [
        "from google.colab import files\n",
        "tf.keras.models.save_model(model, \"attention.h5\", include_optimizer=False, save_format=\"h5\")\n",
        "tf.keras.models.save_model(model, \"attention_opt.h5\", include_optimizer=True, save_format=\"h5\")\n",
        "\n",
        "files.download('attention.h5')\n",
        "files.download('attention_opt.h5')"
      ],
      "execution_count": 0,
      "outputs": []
    },
    {
      "cell_type": "code",
      "metadata": {
        "id": "VV4vOXMkUPl2",
        "colab_type": "code",
        "colab": {}
      },
      "source": [
        ""
      ],
      "execution_count": 0,
      "outputs": []
    }
  ]
}